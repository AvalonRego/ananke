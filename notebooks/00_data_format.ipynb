{
 "cells": [
  {
   "cell_type": "markdown",
   "metadata": {
    "pycharm": {
     "name": "#%% md\n"
    }
   },
   "source": [
    "# 00 Data Format\n",
    "\n",
    "This notebook contains all the information regarding the file specification.\n",
    "\n",
    "## Folder and file structure\n",
    "\n",
    "A created dataset should be contained in one folder. This folder should contain two files:\n",
    "\n",
    "* `data.h5`: Containing all the data\n",
    "* `configuration.json`: Containing the Configuration of the generated dataset\n",
    "\n",
    "Let's explore further how the files should be set up.\n",
    "\n",
    "## Configuration.json: How we store our configuration\n",
    "\n",
    "The configuration is a file to determine at one view how everything has been configured. This is more flexible depending on the generating packages, still this package tries to provide an overview. Generally speaking the json is configured like\n",
    "\n",
    "```json\n",
    "{\n",
    "  \"detector\": ...,\n",
    "  \"generation\": ...,\n",
    "  \"status\": ...\n",
    "}\n",
    "```\n",
    "\n",
    "### Detector\n",
    "\n",
    "tbd.\n",
    "\n",
    "### Generation\n",
    "\n",
    "tbd.\n",
    "\n",
    "### Status\n",
    "\n",
    "tbd.\n",
    "\n",
    "## Data.h5: How we store the data\n",
    "\n",
    "The data is stored in the [HDF](https://en.wikipedia.org/wiki/Hierarchical_Data_Format) format. The format supports datasets and groups. We will use both features in our files structure for maximum efficiency. Specifically we use the following paths:\n",
    "\n",
    "* `detector`: Contains all the PMT position and configuration data\n",
    "* `records`: Contains all record information\n",
    "* `sources`: Optional for all records containing sources\n",
    "  * `sources/{record_id}`: Sources should be stored by record id\n",
    "* `hits`: Hits at the pmts of the detector\n",
    "  * `hits/{record_id}`: Hits should be stored by record_id\n",
    "\n",
    "Some general information:\n",
    "\n",
    "* `record_id`: Pseudo unique integer ID of Record (Currently implemented like `uuid.uuid1().int >> 64` using the [uuid](https://docs.python.org/3/library/uuid.html) module\n",
    "* `datasets`: Should be stored in an appendable and not the fixed format.\n",
    "* `schema validation`: Ananke is the single point of source for the schema. Others should adapt to be imported without error (see documentation)\n",
    "\n",
    "Let's look specifically how the different data frames should be build. To do that, we need to import a couple of things:"
   ]
  },
  {
   "cell_type": "code",
   "execution_count": 17,
   "metadata": {
    "pycharm": {
     "name": "#%%\n"
    }
   },
   "outputs": [],
   "source": [
    "from enum import Enum\n",
    "from typing import Type\n",
    "import pandera as pa\n",
    "from ananke.schemas.detector import DetectorSchema\n",
    "from ananke.schemas.event import RecordSchema, EventRecordSchema, SourceRecordSchema, NoiseRecordSchema, RecordType, SourceType, HitSchema\n",
    "\n",
    "\n",
    "def pretty_print_schema(schema_model: Type[pa.SchemaModel], indent: int = 0) -> None:\n",
    "    \"\"\"Helper function to pretty print a schema model.\n",
    "\n",
    "    Args:\n",
    "        schema_model: Schema model to pretty print\n",
    "        indent: Initial indent in tabs\n",
    "    \"\"\"\n",
    "    for key, value in schema_model.to_schema().columns.items():\n",
    "        if isinstance(value, dict):\n",
    "            pretty_print_schema(value, indent + 1)\n",
    "        else:\n",
    "            print('\\t' * indent + str(key) + ' (' + str(value.dtype) + ')')\n",
    "\n",
    "def pretty_print_enum(enum_to_print: Type[Enum]) -> None:\n",
    "    entries = [e for e in enum_to_print]\n",
    "\n",
    "    for entry in entries:\n",
    "        print(entry.value)"
   ]
  },
  {
   "cell_type": "markdown",
   "metadata": {
    "pycharm": {
     "name": "#%% md\n"
    }
   },
   "source": [
    "### Detector Data Frame\n",
    "\n",
    "The detector data frame contains all the pmt information in one table. The table comply to the following schema:"
   ]
  },
  {
   "cell_type": "code",
   "execution_count": 2,
   "metadata": {
    "pycharm": {
     "name": "#%%\n"
    }
   },
   "outputs": [
    {
     "name": "stdout",
     "output_type": "stream",
     "text": [
      "pmt_id (int64)\n",
      "pmt_efficiency (float64)\n",
      "pmt_area (float64)\n",
      "pmt_noise_rate (float64)\n",
      "pmt_location_x (float64)\n",
      "pmt_location_y (float64)\n",
      "pmt_location_z (float64)\n",
      "pmt_orientation_x (float64)\n",
      "pmt_orientation_y (float64)\n",
      "pmt_orientation_z (float64)\n",
      "module_id (int64)\n",
      "module_radius (float64)\n",
      "module_location_x (float64)\n",
      "module_location_y (float64)\n",
      "module_location_z (float64)\n",
      "string_id (int64)\n",
      "string_location_x (float64)\n",
      "string_location_y (float64)\n",
      "string_location_z (float64)\n"
     ]
    }
   ],
   "source": [
    "pretty_print_schema(DetectorSchema)"
   ]
  },
  {
   "cell_type": "markdown",
   "metadata": {
    "pycharm": {
     "name": "#%% md\n"
    }
   },
   "source": [
    "### Records Data Frame\n",
    "\n",
    "The records contain all the information of the generated records. Whether noise or event, all should be saved in this format. The basic format is:"
   ]
  },
  {
   "cell_type": "code",
   "execution_count": 3,
   "metadata": {
    "pycharm": {
     "name": "#%%\n"
    }
   },
   "outputs": [
    {
     "name": "stdout",
     "output_type": "stream",
     "text": [
      "time (float64)\n",
      "duration (float64)\n",
      "record_id (int64)\n",
      "type (str)\n"
     ]
    }
   ],
   "source": [
    "pretty_print_schema(RecordSchema)"
   ]
  },
  {
   "cell_type": "markdown",
   "metadata": {
    "pycharm": {
     "name": "#%% md\n"
    }
   },
   "source": [
    "Depending on the record type, it can be extended. For events the full record schema is:"
   ]
  },
  {
   "cell_type": "code",
   "execution_count": 4,
   "metadata": {
    "pycharm": {
     "name": "#%%\n"
    }
   },
   "outputs": [
    {
     "name": "stdout",
     "output_type": "stream",
     "text": [
      "time (float64)\n",
      "duration (float64)\n",
      "record_id (int64)\n",
      "type (str)\n",
      "location_x (float64)\n",
      "location_y (float64)\n",
      "location_z (float64)\n",
      "orientation_x (float64)\n",
      "orientation_y (float64)\n",
      "orientation_z (float64)\n",
      "energy (float64)\n",
      "particle_id (int64)\n",
      "length (float64)\n"
     ]
    }
   ],
   "source": [
    "pretty_print_schema(EventRecordSchema)"
   ]
  },
  {
   "cell_type": "markdown",
   "metadata": {
    "pycharm": {
     "name": "#%% md\n"
    }
   },
   "source": [
    "And for noise records:"
   ]
  },
  {
   "cell_type": "code",
   "execution_count": 5,
   "metadata": {
    "pycharm": {
     "name": "#%%\n"
    }
   },
   "outputs": [
    {
     "name": "stdout",
     "output_type": "stream",
     "text": [
      "time (float64)\n",
      "duration (float64)\n",
      "record_id (int64)\n",
      "type (str)\n"
     ]
    }
   ],
   "source": [
    "pretty_print_schema(NoiseRecordSchema)"
   ]
  },
  {
   "cell_type": "markdown",
   "metadata": {
    "pycharm": {
     "name": "#%% md\n"
    }
   },
   "source": [
    "Currently, the following types are \"officially\" recognized:"
   ]
  },
  {
   "cell_type": "code",
   "execution_count": 14,
   "metadata": {
    "pycharm": {
     "name": "#%%\n"
    }
   },
   "outputs": [
    {
     "name": "stdout",
     "output_type": "stream",
     "text": [
      "starting_track\n",
      "cascade\n",
      "realistic_track\n",
      "electrical\n"
     ]
    }
   ],
   "source": [
    "pretty_print_enum(RecordType)"
   ]
  },
  {
   "cell_type": "markdown",
   "metadata": {
    "pycharm": {
     "name": "#%% md\n"
    }
   },
   "source": [
    "### Sources Group\n",
    "\n",
    "The sources group contains multiple dataframes below the path of its `record_id`. Thus, each sources can be accessed by the path `sources/{record_id}`. The Schema of a source is:"
   ]
  },
  {
   "cell_type": "code",
   "execution_count": 7,
   "metadata": {
    "pycharm": {
     "name": "#%%\n"
    }
   },
   "outputs": [
    {
     "name": "stdout",
     "output_type": "stream",
     "text": [
      "time (float64)\n",
      "duration (float64)\n",
      "record_id (int64)\n",
      "type (str)\n",
      "location_x (float64)\n",
      "location_y (float64)\n",
      "location_z (float64)\n",
      "orientation_x (float64)\n",
      "orientation_y (float64)\n",
      "orientation_z (float64)\n",
      "number_of_photons (int64)\n"
     ]
    }
   ],
   "source": [
    "pretty_print_schema(SourceRecordSchema)"
   ]
  },
  {
   "cell_type": "markdown",
   "metadata": {
    "pycharm": {
     "name": "#%% md\n"
    }
   },
   "source": [
    "Now let's look at the types:"
   ]
  },
  {
   "cell_type": "code",
   "execution_count": 13,
   "metadata": {
    "pycharm": {
     "name": "#%%\n"
    }
   },
   "outputs": [
    {
     "name": "stdout",
     "output_type": "stream",
     "text": [
      "cherenkov\n",
      "isotropic\n"
     ]
    }
   ],
   "source": [
    "pretty_print_enum(SourceType)"
   ]
  },
  {
   "cell_type": "markdown",
   "metadata": {
    "pycharm": {
     "name": "#%% md\n"
    }
   },
   "source": [
    "### Hits Group\n",
    "\n",
    "Similar to the sources group, the hits group is as well substructured by the `record_id`. Hence, the hits for one record can be accessed by `hits/{record_id}`. Let's look at the schema:"
   ]
  },
  {
   "cell_type": "code",
   "execution_count": 18,
   "metadata": {
    "pycharm": {
     "name": "#%%\n"
    }
   },
   "outputs": [
    {
     "name": "stdout",
     "output_type": "stream",
     "text": [
      "time (float64)\n",
      "duration (float64)\n",
      "record_id (int64)\n",
      "type (str)\n",
      "string_id (int64)\n",
      "module_id (int64)\n",
      "pmt_id (int64)\n"
     ]
    }
   ],
   "source": [
    "pretty_print_schema(HitSchema)"
   ]
  },
  {
   "cell_type": "markdown",
   "metadata": {
    "pycharm": {
     "name": "#%% md\n"
    }
   },
   "source": [
    "The types are the same as for the records."
   ]
  }
 ],
 "metadata": {
  "kernelspec": {
   "display_name": "Python 3 (ipykernel)",
   "language": "python",
   "name": "python3"
  },
  "language_info": {
   "codemirror_mode": {
    "name": "ipython",
    "version": 3
   },
   "file_extension": ".py",
   "mimetype": "text/x-python",
   "name": "python",
   "nbconvert_exporter": "python",
   "pygments_lexer": "ipython3",
   "version": "3.8.10"
  }
 },
 "nbformat": 4,
 "nbformat_minor": 1
}