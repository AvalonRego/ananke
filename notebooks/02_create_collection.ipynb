{
 "cells": [
  {
   "cell_type": "markdown",
   "source": [
    "# 02 Create and Work with Collection\n",
    "\n",
    "This dataset shows you how to work with a collection."
   ],
   "metadata": {
    "collapsed": false,
    "pycharm": {
     "name": "#%% md\n"
    }
   }
  },
  {
   "cell_type": "code",
   "execution_count": 5,
   "outputs": [],
   "source": [
    "from ananke.models.collection import Collection, LegacyCollection\n",
    "from ananke.configurations.collection import HDF5StorageConfiguration"
   ],
   "metadata": {
    "collapsed": false,
    "pycharm": {
     "name": "#%%\n"
    }
   }
  },
  {
   "cell_type": "code",
   "execution_count": 2,
   "outputs": [],
   "source": [
    "legacy_collection = LegacyCollection(data_path='../../data/cascades_10/data.h5')"
   ],
   "metadata": {
    "collapsed": false,
    "pycharm": {
     "name": "#%%\n"
    }
   }
  },
  {
   "cell_type": "code",
   "execution_count": 3,
   "outputs": [
    {
     "data": {
      "text/plain": "   string_location_x  string_location_y  string_location_z  string_id  \\\n0                0.0                0.0                0.0          0   \n1                0.0                0.0                0.0          0   \n2                0.0                0.0                0.0          0   \n3                0.0                0.0                0.0          0   \n4                0.0                0.0                0.0          0   \n\n   module_id  module_location_x  module_location_y  module_location_z  \\\n0          0                0.0                0.0                0.0   \n1          0                0.0                0.0                0.0   \n2          0                0.0                0.0                0.0   \n3          0                0.0                0.0                0.0   \n4          0                0.0                0.0                0.0   \n\n   module_radius  pmt_orientation_x  pmt_orientation_y  pmt_orientation_z  \\\n0           0.21       4.226183e-01           0.000000          -0.906308   \n1           0.21       4.226183e-01           0.000000           0.906308   \n2           0.21       5.963678e-01           0.596368          -0.537300   \n3           0.21       5.963678e-01           0.596368           0.537300   \n4           0.21       2.587791e-17           0.422618          -0.906308   \n\n   pmt_id  pmt_efficiency  pmt_area  pmt_noise_rate  pmt_location_x  \\\n0       0            0.42    0.0375         0.00016    8.874983e-02   \n1       1            0.42    0.0375         0.00016    8.874983e-02   \n2       2            0.42    0.0375         0.00016    1.252372e-01   \n3       3            0.42    0.0375         0.00016    1.252372e-01   \n4       4            0.42    0.0375         0.00016    5.434360e-18   \n\n   pmt_location_y  pmt_location_z  \n0        0.000000       -0.190325  \n1        0.000000        0.190325  \n2        0.125237       -0.112833  \n3        0.125237        0.112833  \n4        0.088750       -0.190325  ",
      "text/html": "<div>\n<style scoped>\n    .dataframe tbody tr th:only-of-type {\n        vertical-align: middle;\n    }\n\n    .dataframe tbody tr th {\n        vertical-align: top;\n    }\n\n    .dataframe thead th {\n        text-align: right;\n    }\n</style>\n<table border=\"1\" class=\"dataframe\">\n  <thead>\n    <tr style=\"text-align: right;\">\n      <th></th>\n      <th>string_location_x</th>\n      <th>string_location_y</th>\n      <th>string_location_z</th>\n      <th>string_id</th>\n      <th>module_id</th>\n      <th>module_location_x</th>\n      <th>module_location_y</th>\n      <th>module_location_z</th>\n      <th>module_radius</th>\n      <th>pmt_orientation_x</th>\n      <th>pmt_orientation_y</th>\n      <th>pmt_orientation_z</th>\n      <th>pmt_id</th>\n      <th>pmt_efficiency</th>\n      <th>pmt_area</th>\n      <th>pmt_noise_rate</th>\n      <th>pmt_location_x</th>\n      <th>pmt_location_y</th>\n      <th>pmt_location_z</th>\n    </tr>\n  </thead>\n  <tbody>\n    <tr>\n      <th>0</th>\n      <td>0.0</td>\n      <td>0.0</td>\n      <td>0.0</td>\n      <td>0</td>\n      <td>0</td>\n      <td>0.0</td>\n      <td>0.0</td>\n      <td>0.0</td>\n      <td>0.21</td>\n      <td>4.226183e-01</td>\n      <td>0.000000</td>\n      <td>-0.906308</td>\n      <td>0</td>\n      <td>0.42</td>\n      <td>0.0375</td>\n      <td>0.00016</td>\n      <td>8.874983e-02</td>\n      <td>0.000000</td>\n      <td>-0.190325</td>\n    </tr>\n    <tr>\n      <th>1</th>\n      <td>0.0</td>\n      <td>0.0</td>\n      <td>0.0</td>\n      <td>0</td>\n      <td>0</td>\n      <td>0.0</td>\n      <td>0.0</td>\n      <td>0.0</td>\n      <td>0.21</td>\n      <td>4.226183e-01</td>\n      <td>0.000000</td>\n      <td>0.906308</td>\n      <td>1</td>\n      <td>0.42</td>\n      <td>0.0375</td>\n      <td>0.00016</td>\n      <td>8.874983e-02</td>\n      <td>0.000000</td>\n      <td>0.190325</td>\n    </tr>\n    <tr>\n      <th>2</th>\n      <td>0.0</td>\n      <td>0.0</td>\n      <td>0.0</td>\n      <td>0</td>\n      <td>0</td>\n      <td>0.0</td>\n      <td>0.0</td>\n      <td>0.0</td>\n      <td>0.21</td>\n      <td>5.963678e-01</td>\n      <td>0.596368</td>\n      <td>-0.537300</td>\n      <td>2</td>\n      <td>0.42</td>\n      <td>0.0375</td>\n      <td>0.00016</td>\n      <td>1.252372e-01</td>\n      <td>0.125237</td>\n      <td>-0.112833</td>\n    </tr>\n    <tr>\n      <th>3</th>\n      <td>0.0</td>\n      <td>0.0</td>\n      <td>0.0</td>\n      <td>0</td>\n      <td>0</td>\n      <td>0.0</td>\n      <td>0.0</td>\n      <td>0.0</td>\n      <td>0.21</td>\n      <td>5.963678e-01</td>\n      <td>0.596368</td>\n      <td>0.537300</td>\n      <td>3</td>\n      <td>0.42</td>\n      <td>0.0375</td>\n      <td>0.00016</td>\n      <td>1.252372e-01</td>\n      <td>0.125237</td>\n      <td>0.112833</td>\n    </tr>\n    <tr>\n      <th>4</th>\n      <td>0.0</td>\n      <td>0.0</td>\n      <td>0.0</td>\n      <td>0</td>\n      <td>0</td>\n      <td>0.0</td>\n      <td>0.0</td>\n      <td>0.0</td>\n      <td>0.21</td>\n      <td>2.587791e-17</td>\n      <td>0.422618</td>\n      <td>-0.906308</td>\n      <td>4</td>\n      <td>0.42</td>\n      <td>0.0375</td>\n      <td>0.00016</td>\n      <td>5.434360e-18</td>\n      <td>0.088750</td>\n      <td>-0.190325</td>\n    </tr>\n  </tbody>\n</table>\n</div>"
     },
     "execution_count": 3,
     "metadata": {},
     "output_type": "execute_result"
    }
   ],
   "source": [
    "legacy_collection.get_detector().df.head()"
   ],
   "metadata": {
    "collapsed": false,
    "pycharm": {
     "name": "#%%\n"
    }
   }
  },
  {
   "cell_type": "code",
   "execution_count": 6,
   "outputs": [
    {
     "ename": "AttributeError",
     "evalue": "'HDF5StorageConfiguration' object has no attribute 'type'",
     "output_type": "error",
     "traceback": [
      "\u001B[0;31m---------------------------------------------------------------------------\u001B[0m",
      "\u001B[0;31mAttributeError\u001B[0m                            Traceback (most recent call last)",
      "Input \u001B[0;32mIn [6]\u001B[0m, in \u001B[0;36m<module>\u001B[0;34m\u001B[0m\n\u001B[1;32m      1\u001B[0m collection_config \u001B[38;5;241m=\u001B[39m HDF5StorageConfiguration(\n\u001B[1;32m      2\u001B[0m     data_path\u001B[38;5;241m=\u001B[39m\u001B[38;5;124m'\u001B[39m\u001B[38;5;124m../../data/new_collection/cascades_10/data.h5\u001B[39m\u001B[38;5;124m'\u001B[39m,\n\u001B[1;32m      3\u001B[0m )\n\u001B[0;32m----> 5\u001B[0m collection \u001B[38;5;241m=\u001B[39m \u001B[43mCollection\u001B[49m\u001B[43m(\u001B[49m\u001B[43mconfiguration\u001B[49m\u001B[38;5;241;43m=\u001B[39;49m\u001B[43mcollection_config\u001B[49m\u001B[43m)\u001B[49m\n",
      "File \u001B[0;32m~/projects/master/ananke/ananke/models/collection.py:57\u001B[0m, in \u001B[0;36mCollection.__init__\u001B[0;34m(self, configuration)\u001B[0m\n\u001B[1;32m     56\u001B[0m \u001B[38;5;28;01mdef\u001B[39;00m \u001B[38;5;21m__init__\u001B[39m(\u001B[38;5;28mself\u001B[39m, configuration: StorageConfiguration):\n\u001B[0;32m---> 57\u001B[0m     \u001B[38;5;28mself\u001B[39m\u001B[38;5;241m.\u001B[39mcollection_storage \u001B[38;5;241m=\u001B[39m \u001B[43mStorageFactory\u001B[49m\u001B[38;5;241;43m.\u001B[39;49m\u001B[43mcreate\u001B[49m\u001B[43m(\u001B[49m\u001B[43mconfiguration\u001B[49m\u001B[43m)\u001B[49m\n",
      "File \u001B[0;32m~/projects/master/ananke/ananke/services/collection/storage.py:645\u001B[0m, in \u001B[0;36mStorageFactory.create\u001B[0;34m(cls, configuration)\u001B[0m\n\u001B[1;32m    643\u001B[0m \u001B[38;5;28;01mif\u001B[39;00m configuration_type \u001B[38;5;129;01mnot\u001B[39;00m \u001B[38;5;129;01min\u001B[39;00m \u001B[38;5;28mcls\u001B[39m\u001B[38;5;241m.\u001B[39mconfiguration_mapping:\n\u001B[1;32m    644\u001B[0m     \u001B[38;5;28;01mraise\u001B[39;00m \u001B[38;5;167;01mValueError\u001B[39;00m(\u001B[38;5;124m'\u001B[39m\u001B[38;5;124mConfiguration type \u001B[39m\u001B[38;5;130;01m\\'\u001B[39;00m\u001B[38;5;132;01m{}\u001B[39;00m\u001B[38;5;130;01m\\'\u001B[39;00m\u001B[38;5;124m is not supported\u001B[39m\u001B[38;5;124m'\u001B[39m)\n\u001B[0;32m--> 645\u001B[0m \u001B[38;5;28;01mreturn\u001B[39;00m \u001B[38;5;28;43mcls\u001B[39;49m\u001B[38;5;241;43m.\u001B[39;49m\u001B[43mconfiguration_mapping\u001B[49m\u001B[43m[\u001B[49m\u001B[43mconfiguration_type\u001B[49m\u001B[43m]\u001B[49m\u001B[43m(\u001B[49m\u001B[43mconfiguration\u001B[49m\u001B[43m)\u001B[49m\n",
      "File \u001B[0;32m~/projects/master/ananke/ananke/services/collection/storage.py:257\u001B[0m, in \u001B[0;36mHDF5CollectionStorage.__init__\u001B[0;34m(self, configuration)\u001B[0m\n\u001B[1;32m    255\u001B[0m \u001B[38;5;28;01mdef\u001B[39;00m \u001B[38;5;21m__init__\u001B[39m(\u001B[38;5;28mself\u001B[39m, configuration: HDF5StorageConfiguration):\n\u001B[1;32m    256\u001B[0m     \u001B[38;5;124;03m\"\"\"Constructor of HDF5 collection storage.\"\"\"\u001B[39;00m\n\u001B[0;32m--> 257\u001B[0m     \u001B[38;5;28;43msuper\u001B[39;49m\u001B[43m(\u001B[49m\u001B[43mHDF5CollectionStorage\u001B[49m\u001B[43m,\u001B[49m\u001B[43m \u001B[49m\u001B[38;5;28;43mself\u001B[39;49m\u001B[43m)\u001B[49m\u001B[38;5;241;43m.\u001B[39;49m\u001B[38;5;21;43m__init__\u001B[39;49m\u001B[43m(\u001B[49m\u001B[43mconfiguration\u001B[49m\u001B[38;5;241;43m=\u001B[39;49m\u001B[43mconfiguration\u001B[49m\u001B[43m)\u001B[49m\n\u001B[1;32m    258\u001B[0m     \u001B[38;5;28mself\u001B[39m\u001B[38;5;241m.\u001B[39m__store \u001B[38;5;241m=\u001B[39m \u001B[38;5;28;01mNone\u001B[39;00m\n\u001B[1;32m    259\u001B[0m     \u001B[38;5;28mself\u001B[39m\u001B[38;5;241m.\u001B[39mdata_path \u001B[38;5;241m=\u001B[39m \u001B[38;5;28mself\u001B[39m\u001B[38;5;241m.\u001B[39mconfiguration\u001B[38;5;241m.\u001B[39mdata_path\n",
      "File \u001B[0;32m~/projects/master/ananke/ananke/services/collection/storage.py:33\u001B[0m, in \u001B[0;36mAbstractCollectionStorage.__init__\u001B[0;34m(self, configuration)\u001B[0m\n\u001B[1;32m     31\u001B[0m \u001B[38;5;28mself\u001B[39m\u001B[38;5;241m.\u001B[39mconfiguration \u001B[38;5;241m=\u001B[39m configuration\n\u001B[1;32m     32\u001B[0m \u001B[38;5;28mself\u001B[39m\u001B[38;5;241m.\u001B[39mread_only \u001B[38;5;241m=\u001B[39m \u001B[38;5;28mself\u001B[39m\u001B[38;5;241m.\u001B[39mconfiguration\u001B[38;5;241m.\u001B[39mread_only\n\u001B[0;32m---> 33\u001B[0m \u001B[38;5;28mself\u001B[39m\u001B[38;5;241m.\u001B[39mlogger \u001B[38;5;241m=\u001B[39m logging\u001B[38;5;241m.\u001B[39mgetLogger(\u001B[38;5;124m'\u001B[39m\u001B[38;5;132;01m{}\u001B[39;00m\u001B[38;5;124m_\u001B[39m\u001B[38;5;132;01m{}\u001B[39;00m\u001B[38;5;124m'\u001B[39m\u001B[38;5;241m.\u001B[39mformat(\u001B[38;5;28mtype\u001B[39m(\u001B[38;5;28mself\u001B[39m)\u001B[38;5;241m.\u001B[39m\u001B[38;5;18m__name__\u001B[39m, \u001B[38;5;28;43mself\u001B[39;49m\u001B[38;5;241;43m.\u001B[39;49m\u001B[43mconfiguration\u001B[49m\u001B[38;5;241;43m.\u001B[39;49m\u001B[43mtype\u001B[49m))\n",
      "\u001B[0;31mAttributeError\u001B[0m: 'HDF5StorageConfiguration' object has no attribute 'type'"
     ]
    }
   ],
   "source": [
    "collection_config = HDF5StorageConfiguration(\n",
    "    data_path='../../data/new_collection/cascades_10/data.h5',\n",
    ")\n",
    "\n",
    "collection = Collection(configuration=collection_config)"
   ],
   "metadata": {
    "collapsed": false,
    "pycharm": {
     "name": "#%%\n"
    }
   }
  }
 ],
 "metadata": {
  "kernelspec": {
   "display_name": "Python 3",
   "language": "python",
   "name": "python3"
  },
  "language_info": {
   "codemirror_mode": {
    "name": "ipython",
    "version": 2
   },
   "file_extension": ".py",
   "mimetype": "text/x-python",
   "name": "python",
   "nbconvert_exporter": "python",
   "pygments_lexer": "ipython2",
   "version": "2.7.6"
  }
 },
 "nbformat": 4,
 "nbformat_minor": 0
}