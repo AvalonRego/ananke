{
 "cells": [
  {
   "cell_type": "markdown",
   "source": [
    "# 02 Create and Work with Collection\n",
    "\n",
    "This dataset shows you how to work with a collection."
   ],
   "metadata": {
    "collapsed": false,
    "pycharm": {
     "name": "#%% md\n"
    }
   }
  },
  {
   "cell_type": "code",
   "execution_count": 1,
   "outputs": [],
   "source": [
    "from ananke.configurations.presets.detector import single_line_configuration\n",
    "from ananke.configurations.collection import CollectionConfiguration\n",
    "from ananke.models.collection import Collection\n",
    "\n",
    "configuration = CollectionConfiguration(\n",
    "    detector=single_line_configuration\n",
    ")\n",
    "\n",
    "collection = Collection('data', configuration)"
   ],
   "metadata": {
    "collapsed": false,
    "pycharm": {
     "name": "#%%\n"
    }
   }
  },
  {
   "cell_type": "code",
   "execution_count": 2,
   "outputs": [
    {
     "data": {
      "text/plain": "'{\\n  \"detector\": {\\n    \"geometry\": {\\n      \"start_position\": {\\n        \"x\": 0.0,\\n        \"y\": 0.0\\n      },\\n      \"type\": \"single\"\\n    },\\n    \"string\": {\\n      \"z_offset\": 0.0,\\n      \"module_number\": 20,\\n      \"module_distance\": 50.0\\n    },\\n    \"module\": {\\n      \"radius\": 0.21,\\n      \"module_as_PMT\": false\\n    },\\n    \"pmt\": {\\n      \"efficiency\": 0.42,\\n      \"area\": 0.0375,\\n      \"noise_rate\": 0.00016,\\n      \"gamma_scale\": 0.0\\n    },\\n    \"seed\": 32118\\n  },\\n  \"status\": {\\n    \"status\": \"not_started\",\\n    \"current_iteration\": 0,\\n    \"error_message\": null\\n  },\\n  \"compression\": \"gzip\"\\n}'"
     },
     "execution_count": 2,
     "metadata": {},
     "output_type": "execute_result"
    }
   ],
   "source": [
    "configuration.json(indent=2)"
   ],
   "metadata": {
    "collapsed": false,
    "pycharm": {
     "name": "#%%\n"
    }
   }
  }
 ],
 "metadata": {
  "kernelspec": {
   "display_name": "Python 3",
   "language": "python",
   "name": "python3"
  },
  "language_info": {
   "codemirror_mode": {
    "name": "ipython",
    "version": 2
   },
   "file_extension": ".py",
   "mimetype": "text/x-python",
   "name": "python",
   "nbconvert_exporter": "python",
   "pygments_lexer": "ipython2",
   "version": "2.7.6"
  }
 },
 "nbformat": 4,
 "nbformat_minor": 0
}