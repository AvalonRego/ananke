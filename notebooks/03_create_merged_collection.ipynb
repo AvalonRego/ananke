{
 "cells": [
  {
   "cell_type": "markdown",
   "metadata": {
    "pycharm": {
     "name": "#%% md\n"
    }
   },
   "source": [
    "# 03 Create Merged Collection\n",
    "\n",
    "This notebook is about showing you how you can merge created collections together to create the Dataset you are looking for."
   ]
  },
  {
   "cell_type": "code",
   "execution_count": 1,
   "metadata": {
    "collapsed": false,
    "jupyter": {
     "outputs_hidden": false
    },
    "pycharm": {
     "name": "#%%\n"
    }
   },
   "outputs": [],
   "source": [
    "from ananke.models.collection import Collection\n",
    "from ananke.configurations.collection import MergeConfiguration\n",
    "from ananke.schemas.event import RecordType"
   ]
  },
  {
   "cell_type": "markdown",
   "metadata": {
    "pycharm": {
     "name": "#%% md\n"
    }
   },
   "source": [
    "Now, let's configure what we want to merge:"
   ]
  },
  {
   "cell_type": "code",
   "execution_count": 3,
   "metadata": {
    "collapsed": false,
    "jupyter": {
     "outputs_hidden": false
    },
    "pycharm": {
     "name": "#%%\n"
    }
   },
   "outputs": [
    {
     "name": "stdout",
     "output_type": "stream",
     "text": [
      "collection_paths=['../../data/cascades_100/data.h5', '../../data/electrical_noise_100000/data.h5'] out_path='../../data/merge1' content=[MergeContentConfiguration(primary_type=<RecordType.CASCADE: 'cascade'>, number_of_records=10, secondary_types=[<RecordType.ELECTRICAL: 'electrical'>], interval=Interval(start=0.0, end=1000.0)), MergeContentConfiguration(primary_type=<RecordType.ELECTRICAL: 'electrical'>, number_of_records=1000, secondary_types=None, interval=Interval(start=0.0, end=1000.0))] redistribution=None seed=32118\n"
     ]
    }
   ],
   "source": [
    "configuration = MergeConfiguration.parse_obj(\n",
    "    {\n",
    "        'collection_paths': [\n",
    "            '../../data/cascades_100/data.h5',\n",
    "            '../../data/electrical_noise_100000/data.h5',\n",
    "        ],\n",
    "        'out_path': '../../data/merge1',\n",
    "        'content': [\n",
    "            {\n",
    "                'primary_type': RecordType.CASCADE.value,\n",
    "                'secondary_types': [RecordType.ELECTRICAL.value],\n",
    "                'number_of_records': 10,\n",
    "                'interval': {\n",
    "                    'start': 0,\n",
    "                    'end': 1000\n",
    "                }\n",
    "            },\n",
    "            {\n",
    "                'primary_type': RecordType.ELECTRICAL.value,\n",
    "                'number_of_records': 1000,\n",
    "                'interval': {\n",
    "                    'start': 0,\n",
    "                    'end': 1000\n",
    "                }\n",
    "\n",
    "            }\n",
    "        ]\n",
    "    }\n",
    ")\n",
    "\n",
    "print(configuration)"
   ]
  },
  {
   "cell_type": "code",
   "execution_count": 4,
   "metadata": {
    "pycharm": {
     "name": "#%%\n"
    }
   },
   "outputs": [
    {
     "ename": "ValueError",
     "evalue": "One detector is not set",
     "output_type": "error",
     "traceback": [
      "\u001B[0;31m---------------------------------------------------------------------------\u001B[0m",
      "\u001B[0;31mValueError\u001B[0m                                Traceback (most recent call last)",
      "Input \u001B[0;32mIn [4]\u001B[0m, in \u001B[0;36m<module>\u001B[0;34m\u001B[0m\n\u001B[0;32m----> 1\u001B[0m collection \u001B[38;5;241m=\u001B[39m \u001B[43mCollection\u001B[49m\u001B[38;5;241;43m.\u001B[39;49m\u001B[43mfrom_merge\u001B[49m\u001B[43m(\u001B[49m\u001B[43mconfiguration\u001B[49m\u001B[43m)\u001B[49m\n",
      "File \u001B[0;32m~/projects/master/ananke/ananke/models/collection.py:622\u001B[0m, in \u001B[0;36mCollection.from_merge\u001B[0;34m(cls, merge_configuration)\u001B[0m\n\u001B[1;32m    620\u001B[0m \u001B[38;5;28;01mfor\u001B[39;00m sub_collection_path \u001B[38;5;129;01min\u001B[39;00m merge_configuration\u001B[38;5;241m.\u001B[39mcollection_paths:\n\u001B[1;32m    621\u001B[0m     current_collection \u001B[38;5;241m=\u001B[39m \u001B[38;5;28mcls\u001B[39m(data_path\u001B[38;5;241m=\u001B[39msub_collection_path)\n\u001B[0;32m--> 622\u001B[0m     \u001B[43mtmp_collection\u001B[49m\u001B[38;5;241;43m.\u001B[39;49m\u001B[43mappend\u001B[49m\u001B[43m(\u001B[49m\n\u001B[1;32m    623\u001B[0m \u001B[43m        \u001B[49m\u001B[43mcollection_to_append\u001B[49m\u001B[38;5;241;43m=\u001B[39;49m\u001B[43mcurrent_collection\u001B[49m\n\u001B[1;32m    624\u001B[0m \u001B[43m    \u001B[49m\u001B[43m)\u001B[49m\n\u001B[1;32m    626\u001B[0m \u001B[38;5;28;01mif\u001B[39;00m merge_configuration\u001B[38;5;241m.\u001B[39mredistribution \u001B[38;5;129;01mis\u001B[39;00m \u001B[38;5;129;01mnot\u001B[39;00m \u001B[38;5;28;01mNone\u001B[39;00m:\n\u001B[1;32m    627\u001B[0m     tmp_collection\u001B[38;5;241m.\u001B[39mredistribute(\n\u001B[1;32m    628\u001B[0m         redistribution_configuration\u001B[38;5;241m=\u001B[39mmerge_configuration\u001B[38;5;241m.\u001B[39mredistribution\n\u001B[1;32m    629\u001B[0m     )\n",
      "File \u001B[0;32m~/projects/master/ananke/ananke/models/collection.py:491\u001B[0m, in \u001B[0;36mCollection.append\u001B[0;34m(self, collection_to_append, interval)\u001B[0m\n\u001B[1;32m    488\u001B[0m own_detector \u001B[38;5;241m=\u001B[39m \u001B[38;5;28mself\u001B[39m\u001B[38;5;241m.\u001B[39mget_detector()\n\u001B[1;32m    490\u001B[0m \u001B[38;5;28;01mif\u001B[39;00m append_detector \u001B[38;5;129;01mis\u001B[39;00m \u001B[38;5;28;01mNone\u001B[39;00m \u001B[38;5;129;01mor\u001B[39;00m own_detector \u001B[38;5;129;01mis\u001B[39;00m \u001B[38;5;28;01mNone\u001B[39;00m:\n\u001B[0;32m--> 491\u001B[0m     \u001B[38;5;28;01mraise\u001B[39;00m \u001B[38;5;167;01mValueError\u001B[39;00m(\u001B[38;5;124m\"\u001B[39m\u001B[38;5;124mOne detector is not set\u001B[39m\u001B[38;5;124m\"\u001B[39m)\n\u001B[1;32m    493\u001B[0m \u001B[38;5;28;01mif\u001B[39;00m \u001B[38;5;129;01mnot\u001B[39;00m append_detector\u001B[38;5;241m.\u001B[39mdf\u001B[38;5;241m.\u001B[39mequals(own_detector\u001B[38;5;241m.\u001B[39mdf):\n\u001B[1;32m    494\u001B[0m     \u001B[38;5;28;01mraise\u001B[39;00m \u001B[38;5;167;01mValueError\u001B[39;00m(\u001B[38;5;124m\"\u001B[39m\u001B[38;5;124mCannot merge two collections with different detectors.\u001B[39m\u001B[38;5;124m\"\u001B[39m)\n",
      "\u001B[0;31mValueError\u001B[0m: One detector is not set"
     ]
    }
   ],
   "source": [
    "collection = Collection.from_merge(configuration)"
   ]
  }
 ],
 "metadata": {
  "kernelspec": {
   "display_name": "Python 3 (ipykernel)",
   "language": "python",
   "name": "python3"
  },
  "language_info": {
   "codemirror_mode": {
    "name": "ipython",
    "version": 3
   },
   "file_extension": ".py",
   "mimetype": "text/x-python",
   "name": "python",
   "nbconvert_exporter": "python",
   "pygments_lexer": "ipython3",
   "version": "3.8.10"
  }
 },
 "nbformat": 4,
 "nbformat_minor": 4
}